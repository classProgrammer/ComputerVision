{
 "cells": [
  {
   "cell_type": "code",
   "execution_count": 1,
   "metadata": {},
   "outputs": [],
   "source": [
    "import tensorflow as tf\n",
    "%matplotlib inline\n",
    "import matplotlib.pylab as plt\n",
    "import numpy as np\n",
    "import os\n",
    "from matplotlib import image\n",
    "import random\n",
    "from PIL import Image"
   ]
  },
  {
   "cell_type": "markdown",
   "metadata": {},
   "source": [
    "## Set Global Variables and Load Images"
   ]
  },
  {
   "cell_type": "code",
   "execution_count": 3,
   "metadata": {},
   "outputs": [],
   "source": [
    "UTKFACES_PATH = './UTKFace_without_other'\n",
    "SPLIT_POSITION = -2\n",
    "# there are two folders, one with all images and one where images labeled as other were removed\n",
    "INCLUDE_OTHER_IMAGES = False"
   ]
  },
  {
   "cell_type": "code",
   "execution_count": 4,
   "metadata": {},
   "outputs": [],
   "source": [
    "# Fetch image paths from folder\n",
    "img_paths = []\n",
    "with os.scandir(UTKFACES_PATH) as entries:\n",
    "    img_paths = [img_path.path for img_path in entries]\n",
    "    random.shuffle(img_paths)"
   ]
  },
  {
   "cell_type": "code",
   "execution_count": 5,
   "metadata": {},
   "outputs": [],
   "source": [
    "# load image as pixel array, images are already preprocessed = centered and equal in size\n",
    "imgs = [image.imread(img_path) for img_path in img_paths]"
   ]
  },
  {
   "cell_type": "code",
   "execution_count": 8,
   "metadata": {},
   "outputs": [],
   "source": [
    "# preprocess labels, [-2] is the race info\n",
    "race_labels = [int(img_path.split('_')[SPLIT_POSITION]) for img_path in img_paths]"
   ]
  },
  {
   "cell_type": "code",
   "execution_count": 9,
   "metadata": {},
   "outputs": [],
   "source": [
    "# genereates a training, test and validation set as map \n",
    "def generate_sets(base_set, train, validation):\n",
    "    idx1, idx2 = int(len(base_set) * train), int(len(base_set) * (train + validation))\n",
    "\n",
    "    sets = {}\n",
    "    sets[\"train\"] = np.array([img for img in base_set[0:idx1]])\n",
    "    sets[\"validation\"] = np.array([img for img in base_set[idx1:idx2]])\n",
    "    sets[\"test\"] = np.array([img for img in base_set[idx2:]])  \n",
    "    return sets\n"
   ]
  },
  {
   "cell_type": "code",
   "execution_count": 10,
   "metadata": {},
   "outputs": [],
   "source": [
    "# create sets\n",
    "trainig_set_size = 0.6\n",
    "validation_set_size = 0.2\n",
    "image_sets = generate_sets(imgs, trainig_set_size, validation_set_size)\n",
    "race_label_sets = generate_sets(race_labels, trainig_set_size, validation_set_size)"
   ]
  },
  {
   "cell_type": "code",
   "execution_count": 8,
   "metadata": {},
   "outputs": [],
   "source": [
    "# stores images in a folder e.g. to seperate training, test and validation images\n",
    "def store_images(folder, images, labels):\n",
    "    for i in range(0, len(images)):\n",
    "        num = str(i)\n",
    "        im = Image.fromarray(images[i])\n",
    "        im.save('./' + folder + \"/\" + folder + \"_\" + num + \"_\" + str(labels[i]) + \".jpg\")"
   ]
  },
  {
   "cell_type": "code",
   "execution_count": 10,
   "metadata": {},
   "outputs": [],
   "source": [
    "# stores the image sets in different folders\n",
    "store_images(\"train\", image_sets[\"train\"], race_label_sets[\"train\"])\n",
    "store_images(\"test\", image_sets[\"test\"], race_label_sets[\"test\"])\n",
    "store_images(\"validation\", image_sets[\"validation\"], race_label_sets[\"validation\"])"
   ]
  },
  {
   "cell_type": "code",
   "execution_count": 14,
   "metadata": {},
   "outputs": [],
   "source": [
    "# define possible classes, output layer \n",
    "if INCLUDE_OTHER_IMAGES:\n",
    "    class_label = {0: 'White', 1: 'Black', 2: 'Asian', 3: 'Indian', 4: 'Others'}\n",
    "else: # removed other images\n",
    "    class_label = {0: 'White', 1: 'Black', 2: 'Asian', 3: 'Indian'}"
   ]
  },
  {
   "cell_type": "markdown",
   "metadata": {},
   "source": [
    "## Model Section (non CNN)"
   ]
  },
  {
   "cell_type": "code",
   "execution_count": 13,
   "metadata": {},
   "outputs": [
    {
     "name": "stdout",
     "output_type": "stream",
     "text": [
      "Train on 13209 samples\n",
      "Epoch 1/300\n",
      "13209/13209 [==============================] - 15s 1ms/sample - loss: 9.5505 - sparse_categorical_accuracy: 0.4284\n",
      "Epoch 2/300\n",
      "13209/13209 [==============================] - 13s 1ms/sample - loss: 4.8509 - sparse_categorical_accuracy: 0.4984\n",
      "Epoch 3/300\n",
      "13209/13209 [==============================] - 15s 1ms/sample - loss: 4.0735 - sparse_categorical_accuracy: 0.5373\n",
      "Epochs 4-296/300\n",
      "... data striped manually out of notebook to improve readability. You aren't missing out on anything exciting!\n"
      "Epoch 297/300\n",
      "13209/13209 [==============================] - 15s 1ms/sample - loss: 0.2082 - sparse_categorical_accuracy: 0.9408\n",
      "Epoch 298/300\n",
      "13209/13209 [==============================] - 15s 1ms/sample - loss: 0.2266 - sparse_categorical_accuracy: 0.9365\n",
      "Epoch 299/300\n",
      "13209/13209 [==============================] - 14s 1ms/sample - loss: 0.2177 - sparse_categorical_accuracy: 0.9391\n",
      "Epoch 300/300\n",
      "13209/13209 [==============================] - 16s 1ms/sample - loss: 0.2095 - sparse_categorical_accuracy: 0.9378\n"
     ]
    },
    {
     "data": {
      "text/plain": [
       "[<matplotlib.lines.Line2D at 0x7f2a68241c18>]"
      ]
     },
     "execution_count": 13,
     "metadata": {},
     "output_type": "execute_result"
    },
    {
     "data": {
      "image/png": "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\n",
      "text/plain": [
       "<Figure size 432x288 with 1 Axes>"
      ]
     },
     "metadata": {
      "needs_background": "light"
     },
     "output_type": "display_data"
    }
   ],
   "source": [
    "# parameters\n",
    "RGB_DIMENSION = 3\n",
    "OUTPUT_LAYER_SIZE = len(class_label)\n",
    "EPOCHS = 300\n",
    "BATCH_SIZE = 32\n",
    "IMG_HEIGHT = IMG_WIDTH = 200\n",
    "start, end = 0, len(image_sets[\"train\"])\n",
    "VERBOSE = 1 # 0: no outout, 1 progress bar, 2 one line per epoch\n",
    "\n",
    "# create model\n",
    "model = tf.keras.models.Sequential([\n",
    "    tf.keras.layers.Flatten(input_shape=(IMG_WIDTH, IMG_HEIGHT, RGB_DIMENSION)),\n",
    "    tf.keras.layers.Dense(128, activation=tf.nn.relu),\n",
    "    tf.keras.layers.Dense(64, activation=tf.nn.relu),\n",
    "    tf.keras.layers.Dense(OUTPUT_LAYER_SIZE, activation=\"softmax\")\n",
    "])\n",
    "\n",
    "# compile model\n",
    "model.compile(\n",
    "    optimizer=tf.keras.optimizers.Adadelta(),\n",
    "    loss=tf.keras.losses.sparse_categorical_crossentropy,\n",
    "    metrics=['sparse_categorical_accuracy']    \n",
    ")\n",
    "\n",
    "# fit model\n",
    "history = model.fit(\n",
    "    image_sets[\"train\"][start:end], # x_train == images\n",
    "    race_label_sets[\"train\"][start:end], # y_train == label value\n",
    "    batch_size=BATCH_SIZE, \n",
    "    epochs=EPOCHS,\n",
    "    verbose=VERBOSE)\n",
    "\n",
    "# plot the history\n",
    "plt.plot(history.history['loss'])"
   ]
  },
  {
   "cell_type": "markdown",
   "metadata": {},
   "source": [
    "## Model Section (with CNN)"
   ]
  },
  {
   "cell_type": "code",
   "execution_count": 13,
   "metadata": {},
   "outputs": [
    {
     "name": "stdout",
     "output_type": "stream",
     "text": [
      "Model: \"sequential\"\n",
      "_________________________________________________________________\n",
      "Layer (type)                 Output Shape              Param #   \n",
      "=================================================================\n",
      "conv2d (Conv2D)              (None, 193, 193, 32)      6176      \n",
      "_________________________________________________________________\n",
      "max_pooling2d (MaxPooling2D) (None, 32, 32, 32)        0         \n",
      "_________________________________________________________________\n",
      "conv2d_1 (Conv2D)            (None, 29, 29, 32)        16416     \n",
      "_________________________________________________________________\n",
      "max_pooling2d_1 (MaxPooling2 (None, 14, 14, 32)        0         \n",
      "_________________________________________________________________\n",
      "conv2d_2 (Conv2D)            (None, 11, 11, 64)        32832     \n",
      "_________________________________________________________________\n",
      "max_pooling2d_2 (MaxPooling2 (None, 5, 5, 64)          0         \n",
      "_________________________________________________________________\n",
      "flatten (Flatten)            (None, 1600)              0         \n",
      "_________________________________________________________________\n",
      "dense (Dense)                (None, 64)                102464    \n",
      "_________________________________________________________________\n",
      "dense_1 (Dense)              (None, 4)                 260       \n",
      "=================================================================\n",
      "Total params: 158,148\n",
      "Trainable params: 158,148\n",
      "Non-trainable params: 0\n",
      "_________________________________________________________________\n",
      "Train on 13209 samples\n",
      "Epoch 1/10\n",
      "13209/13209 [==============================] - 366s 28ms/sample - loss: 1.3369 - accuracy: 0.5775\n",
      "Epoch 2/10\n",
      "13209/13209 [==============================] - 364s 28ms/sample - loss: 0.7940 - accuracy: 0.6910\n",
      "Epoch 3/10\n",
      "13209/13209 [==============================] - 364s 28ms/sample - loss: 0.6894 - accuracy: 0.7446\n",
      "Epoch 4/10\n",
      "13209/13209 [==============================] - 363s 27ms/sample - loss: 0.6131 - accuracy: 0.7756\n",
      "Epoch 5/10\n",
      "13209/13209 [==============================] - 365s 28ms/sample - loss: 0.5694 - accuracy: 0.7925\n",
      "Epoch 6/10\n",
      "13209/13209 [==============================] - 366s 28ms/sample - loss: 0.5503 - accuracy: 0.7987\n",
      "Epoch 7/10\n",
      "13209/13209 [==============================] - 367s 28ms/sample - loss: 0.5265 - accuracy: 0.8076\n",
      "Epoch 8/10\n",
      "13209/13209 [==============================] - 366s 28ms/sample - loss: 0.5016 - accuracy: 0.8190\n",
      "Epoch 9/10\n",
      "13209/13209 [==============================] - 364s 28ms/sample - loss: 0.4827 - accuracy: 0.8275\n",
      "Epoch 10/10\n",
      "13209/13209 [==============================] - 364s 28ms/sample - loss: 0.4576 - accuracy: 0.8297\n"
     ]
    },
    {
     "data": {
      "image/png": "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\n",
      "text/plain": [
       "<Figure size 432x288 with 2 Axes>"
      ]
     },
     "metadata": {},
     "output_type": "display_data"
    }
   ],
   "source": [
    "# parameters\n",
    "OUTPUT_LAYER_SIZE = len(class_label)\n",
    "EPOCHS = 10\n",
    "BATCH_SIZE = 32\n",
    "IMG_HEIGHT = IMG_WIDTH = 200\n",
    "start, end = 0, len(image_sets[\"train\"])\n",
    "VERBOSE = 1 # 0: no outout, 1 progress bar, 2 one line per epoch\n",
    "\n",
    "# create model\n",
    "model = tf.keras.models.Sequential([\n",
    "    tf.keras.layers.InputLayer(input_shape=(IMG_WIDTH, IMG_HEIGHT, 3)),\n",
    "    \n",
    "    # CNN\n",
    "    tf.keras.layers.Convolution2D(32, (8,8), activation=tf.nn.relu),\n",
    "    tf.keras.layers.MaxPooling2D((6,6)),\n",
    "    \n",
    "    tf.keras.layers.Convolution2D(32 , (4,4), activation=tf.nn.relu),\n",
    "    tf.keras.layers.MaxPooling2D((2,2)),\n",
    "    \n",
    "    tf.keras.layers.Convolution2D(64 , (4,4), activation=tf.nn.relu),\n",
    "    tf.keras.layers.MaxPooling2D((2,2)),\n",
    "    \n",
    "    # Fully Connected\n",
    "    tf.keras.layers.Flatten(),\n",
    "    tf.keras.layers.Dense(64, activation=tf.nn.relu),\n",
    "    tf.keras.layers.Dense(OUTPUT_LAYER_SIZE, activation=\"softmax\")\n",
    "])\n",
    "\n",
    "# compile model\n",
    "model.compile(\n",
    "    optimizer=tf.keras.optimizers.Adam(),\n",
    "    loss=tf.keras.losses.SparseCategoricalCrossentropy(),\n",
    "    metrics=['accuracy'] \n",
    ")\n",
    "\n",
    "model.summary()\n",
    "\n",
    "# fit model\n",
    "earlyStop = tf.keras.callbacks.EarlyStopping(monitor='loss', patience=2)\n",
    "history = model.fit(\n",
    "    image_sets[\"train\"][start:end], # x_train == images\n",
    "    race_label_sets[\"train\"][start:end], # y_train == label value\n",
    "    batch_size=BATCH_SIZE, \n",
    "    epochs=EPOCHS,\n",
    "    verbose=VERBOSE,\n",
    "    callbacks=[earlyStop])\n",
    "\n",
    "# plot the history\n",
    "fig, ax1 = plt.subplots()\n",
    "color = 'tab:orange'\n",
    "ax1.set_xlabel('Epoch')\n",
    "ax1.set_ylabel('loss', color=color)\n",
    "ax1.plot(history.history['loss'], color=color)\n",
    "ax1.tick_params(axis='y', labelcolor=color)\n",
    "\n",
    "ax2 = ax1.twinx()\n",
    "color = 'tab:blue'\n",
    "ax2.set_ylabel('Accuracy', color=color)\n",
    "ax2.plot(history.history['accuracy'], color=color)\n",
    "ax2.tick_params(axis='y', labelcolor=color)\n",
    "\n",
    "fig.tight_layout()\n",
    "plt.show()"
   ]
  },
  {
   "cell_type": "markdown",
   "metadata": {},
   "source": [
    "## Store Net and Tests"
   ]
  },
  {
   "cell_type": "code",
   "execution_count": 15,
   "metadata": {},
   "outputs": [
    {
     "name": "stdout",
     "output_type": "stream",
     "text": [
      "4404/1 - 10s - loss: 0.5085 - accuracy: 0.7809\n",
      "\n",
      "Test accuracy: 0.780881\n"
     ]
    }
   ],
   "source": [
    "# fetch test sets\n",
    "x_test, y_test = image_sets[\"test\"][start:end], race_label_sets[\"test\"][start:end]\n",
    "\n",
    "# get loss and accuracy\n",
    "test_loss, test_accuracy = model.evaluate(x_test,  y_test, verbose=2)\n",
    "print('\\nTest accuracy:', test_accuracy)"
   ]
  },
  {
   "cell_type": "code",
   "execution_count": 14,
   "metadata": {},
   "outputs": [],
   "source": [
    "# store the model\n",
    "model.save('ralf_cnn_17-00_no_others.h5')"
   ]
  },
  {
   "cell_type": "code",
   "execution_count": 36,
   "metadata": {},
   "outputs": [
    {
     "name": "stdout",
     "output_type": "stream",
     "text": [
      "guessed correct\n"
     ]
    }
   ],
   "source": [
    "# test single images\n",
    "ralf = tf.keras.models.load_model('ralf_cnn_00-44_no_others.h5')\n",
    "\n",
    "img = image_sets[\"validation\"][6]\n",
    "label = race_label_sets[\"validation\"][6]\n",
    "\n",
    "img = tf.cast(img, tf.float32)\n",
    "img = np.expand_dims(img, axis=0)\n",
    "\n",
    "predicted_class = np.argmax(ralf.predict(img))\n",
    "\n",
    "print('guessed correct' if class_label[predicted_class] == class_label[label] else 'guessed wrong')"
   ]
  },
  {
   "cell_type": "markdown",
   "metadata": {},
   "source": [
    "### Bulk Test Function with Confusion Matrix Print"
   ]
  },
  {
   "cell_type": "code",
   "execution_count": 22,
   "metadata": {},
   "outputs": [],
   "source": [
    "def bulktest(images, labels, start, end, model_name):\n",
    "    model = tf.keras.models.load_model(model_name)\n",
    "    test_images = images[start:end]\n",
    "    test_label = labels[start:end]\n",
    "    right = wrong = 0\n",
    "    confusion_labels = []\n",
    "    confusion_predicts = []\n",
    "    \n",
    "    for i in range(start, end):\n",
    "        predicted_class = np.argmax(model.predict(np.expand_dims(tf.cast(test_images[i], tf.float32), axis=0)))\n",
    "\n",
    "        confusion_labels.append(test_label[i])\n",
    "        confusion_predicts.append(predicted_class)\n",
    "        \n",
    "        if class_label[predicted_class] == class_label[test_label[i]]:\n",
    "            right += 1\n",
    "        else:\n",
    "            wrong += 1\n",
    "\n",
    "    print(tf.math.confusion_matrix(confusion_labels, confusion_predicts, 4))\n",
    "            \n",
    "    print(\"guessed \" + str(right) + \" correct and \" + str(wrong) + \" wrong : \" + str(100 * (right / (right + wrong))) + \"%\")"
   ]
  },
  {
   "cell_type": "code",
   "execution_count": 23,
   "metadata": {
    "scrolled": true
   },
   "outputs": [
    {
     "name": "stdout",
     "output_type": "stream",
     "text": [
      "tf.Tensor(\n",
      "[[1539   31  167  148]\n",
      " [  54  642   36   79]\n",
      " [  31    8  504   25]\n",
      " [ 108   31   51  546]], shape=(4, 4), dtype=int32)\n",
      "guessed 3231 correct and 769 wrong : 80.77499999999999%\n"
     ]
    }
   ],
   "source": [
    "# bulk test\n",
    "bulktest(image_sets[\"validation\"], race_label_sets[\"validation\"], 0, 4000, \"ralf_cnn_00-44_no_others.h5\")"
   ]
  }
 ],
 "metadata": {
  "kernelspec": {
   "display_name": "Python 3",
   "language": "python",
   "name": "python3"
  },
  "language_info": {
   "codemirror_mode": {
    "name": "ipython",
    "version": 3
   },
   "file_extension": ".py",
   "mimetype": "text/x-python",
   "name": "python",
   "nbconvert_exporter": "python",
   "pygments_lexer": "ipython3",
   "version": "3.7.5"
  }
 },
 "nbformat": 4,
 "nbformat_minor": 2
}

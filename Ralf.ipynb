{
 "cells": [
  {
   "cell_type": "code",
   "execution_count": 1,
   "metadata": {},
   "outputs": [],
   "source": [
    "import tensorflow as tf\n",
    "%matplotlib inline\n",
    "import matplotlib.pylab as plt\n",
    "import numpy as np\n",
    "import seaborn as sns\n",
    "import pandas as pd\n",
    "import os\n",
    "from matplotlib import image\n",
    "import random\n",
    "from PIL import Image"
   ]
  },
  {
   "cell_type": "markdown",
   "metadata": {},
   "source": [
    "## Set Global Variables and Load Images"
   ]
  },
  {
   "cell_type": "code",
   "execution_count": 3,
   "metadata": {},
   "outputs": [],
   "source": [
    "UTKFACES_PATH = './UTKFace_without_other'\n",
    "SPLIT_POSITION = -2\n",
    "# there are two folders, one with all images and one where images labeled as other were removed\n",
    "INCLUDE_OTHER_IMAGES = False"
   ]
  },
  {
   "cell_type": "code",
   "execution_count": 4,
   "metadata": {},
   "outputs": [],
   "source": [
    "# Fetch image paths from folder\n",
    "img_paths = []\n",
    "with os.scandir(UTKFACES_PATH) as entries:\n",
    "    img_paths = [img_path.path for img_path in entries]\n",
    "    random.shuffle(img_paths)"
   ]
  },
  {
   "cell_type": "code",
   "execution_count": 5,
   "metadata": {},
   "outputs": [],
   "source": [
    "# load image as pixel array, images are already preprocessed = centered and equal in size\n",
    "imgs = [image.imread(img_path) for img_path in img_paths]"
   ]
  },
  {
   "cell_type": "code",
   "execution_count": 8,
   "metadata": {},
   "outputs": [],
   "source": [
    "# preprocess labels, [-2] is the race info\n",
    "race_labels = [int(img_path.split('_')[SPLIT_POSITION]) for img_path in img_paths]"
   ]
  },
  {
   "cell_type": "code",
   "execution_count": 9,
   "metadata": {},
   "outputs": [],
   "source": [
    "# genereates a training, test and validation set as map \n",
    "def generate_sets(base_set, train, validation):\n",
    "    idx1, idx2 = int(len(base_set) * train), int(len(base_set) * (train + validation))\n",
    "\n",
    "    sets = {}\n",
    "    sets[\"train\"] = np.array([img for img in base_set[0:idx1]])\n",
    "    sets[\"validation\"] = np.array([img for img in base_set[idx1:idx2]])\n",
    "    sets[\"test\"] = np.array([img for img in base_set[idx2:]])  \n",
    "    return sets\n"
   ]
  },
  {
   "cell_type": "code",
   "execution_count": 10,
   "metadata": {},
   "outputs": [],
   "source": [
    "# create sets\n",
    "trainig_set_size = 0.6\n",
    "validation_set_size = 0.2\n",
    "image_sets = generate_sets(imgs, trainig_set_size, validation_set_size)\n",
    "race_label_sets = generate_sets(race_labels, trainig_set_size, validation_set_size)"
   ]
  },
  {
   "cell_type": "code",
   "execution_count": 8,
   "metadata": {},
   "outputs": [],
   "source": [
    "# stores images in a folder e.g. to seperate training, test and validation images\n",
    "def store_images(folder, images, labels):\n",
    "    for i in range(0, len(images)):\n",
    "        num = str(i)\n",
    "        im = Image.fromarray(images[i])\n",
    "        im.save('./' + folder + \"/\" + folder + \"_\" + num + \"_\" + str(labels[i]) + \".jpg\")"
   ]
  },
  {
   "cell_type": "code",
   "execution_count": 10,
   "metadata": {},
   "outputs": [],
   "source": [
    "# stores the image sets in different folders\n",
    "store_images(\"train\", image_sets[\"train\"], race_label_sets[\"train\"])\n",
    "store_images(\"test\", image_sets[\"test\"], race_label_sets[\"test\"])\n",
    "store_images(\"validation\", image_sets[\"validation\"], race_label_sets[\"validation\"])"
   ]
  },
  {
   "cell_type": "code",
   "execution_count": 14,
   "metadata": {},
   "outputs": [],
   "source": [
    "# define possible classes, output layer \n",
    "if INCLUDE_OTHER_IMAGES:\n",
    "    class_label = {0: 'White', 1: 'Black', 2: 'Asian', 3: 'Indian', 4: 'Others'}\n",
    "else: # removed other images\n",
    "    class_label = {0: 'White', 1: 'Black', 2: 'Asian', 3: 'Indian'}"
   ]
  },
  {
   "cell_type": "markdown",
   "metadata": {},
   "source": [
    "## Model Section (non CNN)"
   ]
  },
  {
   "cell_type": "code",
   "execution_count": 13,
   "metadata": {},
   "outputs": [
    {
     "name": "stdout",
     "output_type": "stream",
     "text": [
      "Model: \"sequential\"\n",
      "_________________________________________________________________\n",
      "Layer (type)                 Output Shape              Param #   \n",
      "=================================================================\n",
      "flatten (Flatten)            (None, 120000)            0         \n",
      "_________________________________________________________________\n",
      "dense (Dense)                (None, 128)               15360128  \n",
      "_________________________________________________________________\n",
      "dense_1 (Dense)              (None, 64)                8256      \n",
      "_________________________________________________________________\n",
      "dense_2 (Dense)              (None, 4)                 260       \n",
      "=================================================================\n",
      "Total params: 15,368,644\n",
      "Trainable params: 15,368,644\n",
      "Non-trainable params: 0\n",
      "_________________________________________________________________\n",
      "Train on 13209 samples\n",
      "Epoch 1/300\n",
      "13209/13209 [==============================] - 15s 1ms/sample - loss: 9.5505 - sparse_categorical_accuracy: 0.4284\n",
      "Epoch 2/300\n",
      "13209/13209 [==============================] - 13s 1ms/sample - loss: 4.8509 - sparse_categorical_accuracy: 0.4984\n",
      "Epoch 3/300\n",
      "13209/13209 [==============================] - 15s 1ms/sample - loss: 4.0735 - sparse_categorical_accuracy: 0.5373\n",
      "Epochs 4-296/300\n",
      "... data striped manually out of notebook to improve readability. You aren't missing out on anything exciting!\n",
      "Epoch 297/300\n",
      "13209/13209 [==============================] - 15s 1ms/sample - loss: 0.2082 - sparse_categorical_accuracy: 0.9408\n",
      "Epoch 298/300\n",
      "13209/13209 [==============================] - 15s 1ms/sample - loss: 0.2266 - sparse_categorical_accuracy: 0.9365\n",
      "Epoch 299/300\n",
      "13209/13209 [==============================] - 14s 1ms/sample - loss: 0.2177 - sparse_categorical_accuracy: 0.9391\n",
      "Epoch 300/300\n",
      "13209/13209 [==============================] - 16s 1ms/sample - loss: 0.2095 - sparse_categorical_accuracy: 0.9378\n"
     ]
    },
    {
     "data": {
      "text/plain": [
       "[<matplotlib.lines.Line2D at 0x7f2a68241c18>]"
      ]
     },
     "execution_count": 13,
     "metadata": {},
     "output_type": "execute_result"
    },
    {
     "data": {
      "image/png": "[encoded data removed]",
      "text/plain": [
       "<Figure size 432x288 with 1 Axes>"
      ]
     },
     "metadata": {
      "needs_background": "light"
     },
     "output_type": "display_data"
    }
   ],
   "source": [
    "# parameters\n",
    "RGB_DIMENSION = 3\n",
    "OUTPUT_LAYER_SIZE = len(class_label)\n",
    "EPOCHS = 300\n",
    "BATCH_SIZE = 32\n",
    "IMG_HEIGHT = IMG_WIDTH = 200\n",
    "start, end = 0, len(image_sets[\"train\"])\n",
    "VERBOSE = 1 # 0: no outout, 1 progress bar, 2 one line per epoch\n",
    "\n",
    "# create model\n",
    "model = tf.keras.models.Sequential([\n",
    "    tf.keras.layers.Flatten(input_shape=(IMG_WIDTH, IMG_HEIGHT, RGB_DIMENSION)),\n",
    "    tf.keras.layers.Dense(128, activation=tf.nn.relu),\n",
    "    tf.keras.layers.Dense(64, activation=tf.nn.relu),\n",
    "    tf.keras.layers.Dense(OUTPUT_LAYER_SIZE, activation=\"softmax\")\n",
    "])\n",
    "\n",
    "model.summary()\n",
    "\n",
    "# compile model\n",
    "model.compile(\n",
    "    optimizer=tf.keras.optimizers.Adadelta(),\n",
    "    loss=tf.keras.losses.sparse_categorical_crossentropy,\n",
    "    metrics=['sparse_categorical_accuracy']    \n",
    ")\n",
    "\n",
    "# fit model\n",
    "history = model.fit(\n",
    "    image_sets[\"train\"][start:end], # x_train == images\n",
    "    race_label_sets[\"train\"][start:end], # y_train == label value\n",
    "    batch_size=BATCH_SIZE, \n",
    "    epochs=EPOCHS,\n",
    "    verbose=VERBOSE)\n",
    "\n",
    "# plot the history\n",
    "plt.plot(history.history['loss'])"
   ]
  },
  {
   "cell_type": "markdown",
   "metadata": {},
   "source": [
    "## Model Section (with CNN)"
   ]
  },
  {
   "cell_type": "code",
   "execution_count": 13,
   "metadata": {},
   "outputs": [
    {
     "name": "stdout",
     "output_type": "stream",
     "text": [
      "Model: \"sequential\"\n",
      "_________________________________________________________________\n",
      "Layer (type)                 Output Shape              Param #   \n",
      "=================================================================\n",
      "conv2d (Conv2D)              (None, 193, 193, 32)      6176      \n",
      "_________________________________________________________________\n",
      "max_pooling2d (MaxPooling2D) (None, 32, 32, 32)        0         \n",
      "_________________________________________________________________\n",
      "conv2d_1 (Conv2D)            (None, 29, 29, 32)        16416     \n",
      "_________________________________________________________________\n",
      "max_pooling2d_1 (MaxPooling2 (None, 14, 14, 32)        0         \n",
      "_________________________________________________________________\n",
      "conv2d_2 (Conv2D)            (None, 11, 11, 64)        32832     \n",
      "_________________________________________________________________\n",
      "max_pooling2d_2 (MaxPooling2 (None, 5, 5, 64)          0         \n",
      "_________________________________________________________________\n",
      "flatten (Flatten)            (None, 1600)              0         \n",
      "_________________________________________________________________\n",
      "dense (Dense)                (None, 64)                102464    \n",
      "_________________________________________________________________\n",
      "dense_1 (Dense)              (None, 4)                 260       \n",
      "=================================================================\n",
      "Total params: 158,148\n",
      "Trainable params: 158,148\n",
      "Non-trainable params: 0\n",
      "_________________________________________________________________\n",
      "Train on 13209 samples\n",
      "Epoch 1/10\n",
      "13209/13209 [==============================] - 366s 28ms/sample - loss: 1.3369 - accuracy: 0.5775\n",
      "Epoch 2/10\n",
      "13209/13209 [==============================] - 364s 28ms/sample - loss: 0.7940 - accuracy: 0.6910\n",
      "Epoch 3/10\n",
      "13209/13209 [==============================] - 364s 28ms/sample - loss: 0.6894 - accuracy: 0.7446\n",
      "Epoch 4/10\n",
      "13209/13209 [==============================] - 363s 27ms/sample - loss: 0.6131 - accuracy: 0.7756\n",
      "Epoch 5/10\n",
      "13209/13209 [==============================] - 365s 28ms/sample - loss: 0.5694 - accuracy: 0.7925\n",
      "Epoch 6/10\n",
      "13209/13209 [==============================] - 366s 28ms/sample - loss: 0.5503 - accuracy: 0.7987\n",
      "Epoch 7/10\n",
      "13209/13209 [==============================] - 367s 28ms/sample - loss: 0.5265 - accuracy: 0.8076\n",
      "Epoch 8/10\n",
      "13209/13209 [==============================] - 366s 28ms/sample - loss: 0.5016 - accuracy: 0.8190\n",
      "Epoch 9/10\n",
      "13209/13209 [==============================] - 364s 28ms/sample - loss: 0.4827 - accuracy: 0.8275\n",
      "Epoch 10/10\n",
      "13209/13209 [==============================] - 364s 28ms/sample - loss: 0.4576 - accuracy: 0.8297\n"
     ]
    },
    {
     "data": {
      "image/png": "[encoded data removed]",
      "text/plain": [
       "<Figure size 432x288 with 2 Axes>"
      ]
     },
     "metadata": {},
     "output_type": "display_data"
    }
   ],
   "source": [
    "# parameters\n",
    "OUTPUT_LAYER_SIZE = len(class_label)\n",
    "EPOCHS = 10\n",
    "BATCH_SIZE = 32\n",
    "IMG_HEIGHT = IMG_WIDTH = 200\n",
    "start, end = 0, len(image_sets[\"train\"])\n",
    "VERBOSE = 1 # 0: no outout, 1 progress bar, 2 one line per epoch\n",
    "\n",
    "# create model\n",
    "model = tf.keras.models.Sequential([\n",
    "    tf.keras.layers.InputLayer(input_shape=(IMG_WIDTH, IMG_HEIGHT, 3)),\n",
    "    \n",
    "    # CNN\n",
    "    tf.keras.layers.Convolution2D(32, (8,8), activation=tf.nn.relu),\n",
    "    tf.keras.layers.MaxPooling2D((6,6)),\n",
    "    \n",
    "    tf.keras.layers.Convolution2D(32 , (4,4), activation=tf.nn.relu),\n",
    "    tf.keras.layers.MaxPooling2D((2,2)),\n",
    "    \n",
    "    tf.keras.layers.Convolution2D(64 , (4,4), activation=tf.nn.relu),\n",
    "    tf.keras.layers.MaxPooling2D((2,2)),\n",
    "    \n",
    "    # Fully Connected\n",
    "    tf.keras.layers.Flatten(),\n",
    "    tf.keras.layers.Dense(64, activation=tf.nn.relu),\n",
    "    tf.keras.layers.Dense(OUTPUT_LAYER_SIZE, activation=\"softmax\")\n",
    "])\n",
    "\n",
    "# compile model\n",
    "model.compile(\n",
    "    optimizer=tf.keras.optimizers.Adam(),\n",
    "    loss=tf.keras.losses.SparseCategoricalCrossentropy(),\n",
    "    metrics=['accuracy'] \n",
    ")\n",
    "\n",
    "model.summary()\n",
    "\n",
    "# fit model\n",
    "earlyStop = tf.keras.callbacks.EarlyStopping(monitor='loss', patience=2)\n",
    "history = model.fit(\n",
    "    image_sets[\"train\"][start:end], # x_train == images\n",
    "    race_label_sets[\"train\"][start:end], # y_train == label value\n",
    "    batch_size=BATCH_SIZE, \n",
    "    epochs=EPOCHS,\n",
    "    verbose=VERBOSE,\n",
    "    callbacks=[earlyStop])\n",
    "\n",
    "# plot the history\n",
    "fig, ax1 = plt.subplots()\n",
    "color = 'tab:orange'\n",
    "ax1.set_xlabel('Epoch')\n",
    "ax1.set_ylabel('loss', color=color)\n",
    "ax1.plot(history.history['loss'], color=color)\n",
    "ax1.tick_params(axis='y', labelcolor=color)\n",
    "\n",
    "ax2 = ax1.twinx()\n",
    "color = 'tab:blue'\n",
    "ax2.set_ylabel('Accuracy', color=color)\n",
    "ax2.plot(history.history['accuracy'], color=color)\n",
    "ax2.tick_params(axis='y', labelcolor=color)\n",
    "\n",
    "fig.tight_layout()\n",
    "plt.show()"
   ]
  },
  {
   "cell_type": "markdown",
   "metadata": {},
   "source": [
    "## Store Net and Tests"
   ]
  },
  {
   "cell_type": "code",
   "execution_count": 15,
   "metadata": {},
   "outputs": [
    {
     "name": "stdout",
     "output_type": "stream",
     "text": [
      "4404/1 - 10s - loss: 0.5085 - accuracy: 0.7809\n",
      "\n",
      "Test accuracy: 0.780881\n"
     ]
    }
   ],
   "source": [
    "# fetch test sets\n",
    "x_test, y_test = image_sets[\"test\"][start:end], race_label_sets[\"test\"][start:end]\n",
    "\n",
    "# get loss and accuracy\n",
    "test_loss, test_accuracy = model.evaluate(x_test,  y_test, verbose=2)\n",
    "print('\\nTest accuracy:', test_accuracy)"
   ]
  },
  {
   "cell_type": "code",
   "execution_count": 14,
   "metadata": {},
   "outputs": [],
   "source": [
    "# store the model\n",
    "model.save('ralf_cnn_17-00_no_others.h5')"
   ]
  },
  {
   "cell_type": "code",
   "execution_count": 36,
   "metadata": {},
   "outputs": [
    {
     "name": "stdout",
     "output_type": "stream",
     "text": [
      "guessed correct\n"
     ]
    }
   ],
   "source": [
    "# test single images\n",
    "ralf = tf.keras.models.load_model('ralf_cnn_00-44_no_others.h5')\n",
    "\n",
    "img = image_sets[\"validation\"][6]\n",
    "label = race_label_sets[\"validation\"][6]\n",
    "\n",
    "img = tf.cast(img, tf.float32)\n",
    "img = np.expand_dims(img, axis=0)\n",
    "\n",
    "predicted_class = np.argmax(ralf.predict(img))\n",
    "\n",
    "print('guessed correct' if class_label[predicted_class] == class_label[label] else 'guessed wrong')"
   ]
  },
  {
   "cell_type": "markdown",
   "metadata": {},
   "source": [
    "### Bulk Test Function with Confusion Matrix Print"
   ]
  },
  {
   "cell_type": "code",
   "execution_count": 22,
   "metadata": {},
   "outputs": [],
   "source": [
    "def bulktest(images, labels, start, end, model_name):\n",
    "    model = tf.keras.models.load_model(model_name)\n",
    "    test_images = images[start:end]\n",
    "    test_label = labels[start:end]\n",
    "    right = wrong = 0\n",
    "    confusion_labels = []\n",
    "    confusion_predicts = []\n",
    "    \n",
    "    for i in range(start, end):\n",
    "        predicted_class = np.argmax(model.predict(np.expand_dims(tf.cast(test_images[i], tf.float32), axis=0)))\n",
    "\n",
    "        confusion_labels.append(test_label[i])\n",
    "        confusion_predicts.append(predicted_class)\n",
    "        \n",
    "        if class_label[predicted_class] == class_label[test_label[i]]:\n",
    "            right += 1\n",
    "        else:\n",
    "            wrong += 1\n",
    "\n",
    "    # Confusion Matrix Graphic\n",
    "    con_mat = tf.math.confusion_matrix(confusion_labels, confusion_predicts, 4).numpy()\n",
    "    con_mat_norm = np.around(con_mat.astype('float') / con_mat.sum(axis=1)[:, np.newaxis], decimals=2)\n",
    "    con_mat_df = pd.DataFrame(con_mat_norm, index = class_label, columns = class_label)\n",
    "    plt.figure(figsize=(len(class_label), len(class_label)))\n",
    "    sns.heatmap(con_mat_df, annot=True,cmap=plt.cm.Blues)\n",
    "    plt.ylabel('True label')\n",
    "    plt.xlabel('Predicted label')\n",
    "    plt.show()\n",
    "\n",
    "    print(\"guessed \" + str(right) + \" correct and \" + str(wrong) + \" wrong : \" + str(100 * (right / (right + wrong))) + \"%\")"
   ]
  },
  {
   "cell_type": "code",
   "execution_count": 23,
   "metadata": {
    "scrolled": true
   },
   "outputs": [
    {
     "data": {
      "image/png": "[encoded data removed]",
      "text/plain": [
       "<Figure size 288x288 with 2 Axes>"
      ]
     },
     "metadata": {
      "needs_background": "light"
     },
     "output_type": "display_data"
    },
    {
     "name": "stdout",
     "output_type": "stream",
     "text": [
      "guessed 3231 correct and 769 wrong : 80.77499999999999%\n"
     ]
    }
   ],
   "source": [
    "# bulk test\n",
    "bulktest(image_sets[\"validation\"], race_label_sets[\"validation\"], 0, 4000, \"ralf_cnn_00-44_no_others.h5\")"
   ]
  }
 ],
 "metadata": {
  "kernelspec": {
   "display_name": "Python 3",
   "language": "python",
   "name": "python3"
  },
  "language_info": {
   "codemirror_mode": {
    "name": "ipython",
    "version": 3
   },
   "file_extension": ".py",
   "mimetype": "text/x-python",
   "name": "python",
   "nbconvert_exporter": "python",
   "pygments_lexer": "ipython3",
   "version": "3.7.5"
  }
 },
 "nbformat": 4,
 "nbformat_minor": 2
}
